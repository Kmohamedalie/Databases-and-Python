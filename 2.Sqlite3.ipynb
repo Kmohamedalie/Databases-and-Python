{
 "cells": [
  {
   "cell_type": "markdown",
   "id": "874789e1",
   "metadata": {},
   "source": [
    "# **Using python to query sqlite3**\n",
    "\n",
    "Northwind database"
   ]
  },
  {
   "cell_type": "markdown",
   "id": "c9c128be",
   "metadata": {},
   "source": [
    "**import libraries**"
   ]
  },
  {
   "cell_type": "code",
   "execution_count": 11,
   "id": "32224244",
   "metadata": {},
   "outputs": [],
   "source": [
    "import sqlite3\n",
    "import pandas as pd"
   ]
  },
  {
   "cell_type": "markdown",
   "id": "e2e1af66",
   "metadata": {},
   "source": [
    "**Create a connection with sqlite3**"
   ]
  },
  {
   "cell_type": "code",
   "execution_count": 12,
   "id": "18b80271",
   "metadata": {},
   "outputs": [],
   "source": [
    "# Create a connection with sqlite3\n",
    "conn = sqlite3.connect(\"northwind.db\")"
   ]
  },
  {
   "cell_type": "code",
   "execution_count": 13,
   "id": "4bf5f234",
   "metadata": {},
   "outputs": [],
   "source": [
    "# Establish connection and start cursor to be ready to query\n",
    "cur = conn.cursor()"
   ]
  },
  {
   "cell_type": "code",
   "execution_count": 14,
   "id": "4628331d",
   "metadata": {},
   "outputs": [
    {
     "data": {
      "text/plain": [
       "<sqlite3.Cursor at 0x1fbcea00ea0>"
      ]
     },
     "execution_count": 14,
     "metadata": {},
     "output_type": "execute_result"
    }
   ],
   "source": [
    "# Pass in a PostgreSQL query as a string\n",
    "cur.execute(\"select * from categories;\")"
   ]
  },
  {
   "cell_type": "code",
   "execution_count": 15,
   "id": "a51bae10",
   "metadata": {},
   "outputs": [
    {
     "data": {
      "text/plain": [
       "<sqlite3.Cursor at 0x1fbcea00ea0>"
      ]
     },
     "execution_count": 15,
     "metadata": {},
     "output_type": "execute_result"
    }
   ],
   "source": [
    "query1 = '''\n",
    "        select * from products\n",
    "        '''\n",
    "cur.execute(query1)"
   ]
  },
  {
   "cell_type": "code",
   "execution_count": 16,
   "id": "e9c8b339",
   "metadata": {
    "scrolled": false
   },
   "outputs": [
    {
     "data": {
      "text/plain": [
       "[(1, 'Chai', 1, 1, '10 boxes x 20 bags', 18, 39, 0, 10, '0'),\n",
       " (2, 'Chang', 1, 1, '24 - 12 oz bottles', 19, 17, 40, 25, '0'),\n",
       " (3, 'Aniseed Syrup', 1, 2, '12 - 550 ml bottles', 10, 13, 70, 25, '0'),\n",
       " (4,\n",
       "  \"Chef Anton's Cajun Seasoning\",\n",
       "  2,\n",
       "  2,\n",
       "  '48 - 6 oz jars',\n",
       "  22,\n",
       "  53,\n",
       "  0,\n",
       "  0,\n",
       "  '0'),\n",
       " (5, \"Chef Anton's Gumbo Mix\", 2, 2, '36 boxes', 21.35, 0, 0, 0, '1'),\n",
       " (6,\n",
       "  \"Grandma's Boysenberry Spread\",\n",
       "  3,\n",
       "  2,\n",
       "  '12 - 8 oz jars',\n",
       "  25,\n",
       "  120,\n",
       "  0,\n",
       "  25,\n",
       "  '0'),\n",
       " (7,\n",
       "  \"Uncle Bob's Organic Dried Pears\",\n",
       "  3,\n",
       "  7,\n",
       "  '12 - 1 lb pkgs.',\n",
       "  30,\n",
       "  15,\n",
       "  0,\n",
       "  10,\n",
       "  '0'),\n",
       " (8, 'Northwoods Cranberry Sauce', 3, 2, '12 - 12 oz jars', 40, 6, 0, 0, '0'),\n",
       " (9, 'Mishi Kobe Niku', 4, 6, '18 - 500 g pkgs.', 97, 29, 0, 0, '1'),\n",
       " (10, 'Ikura', 4, 8, '12 - 200 ml jars', 31, 31, 0, 0, '0')]"
      ]
     },
     "execution_count": 16,
     "metadata": {},
     "output_type": "execute_result"
    }
   ],
   "source": [
    "cur.fetchmany(10)"
   ]
  },
  {
   "cell_type": "code",
   "execution_count": null,
   "id": "f4426d45",
   "metadata": {},
   "outputs": [],
   "source": []
  },
  {
   "cell_type": "code",
   "execution_count": 17,
   "id": "808cdc45",
   "metadata": {},
   "outputs": [],
   "source": [
    "# Naturally we get a list of tupples\n",
    "tupples = cur.fetchall()\n",
    "cur.close()"
   ]
  },
  {
   "cell_type": "markdown",
   "id": "d42c4090",
   "metadata": {},
   "source": [
    "**sqlite3 SQL to dataFrame:** "
   ]
  },
  {
   "cell_type": "code",
   "execution_count": 18,
   "id": "29081bd8",
   "metadata": {},
   "outputs": [],
   "source": [
    "def sqlite3_to_dataframe(conn, select_query, column_names):\n",
    "    \"\"\"\n",
    "    Tranform a SELECT query into a pandas dataframe\n",
    "    \"\"\"\n",
    "    cursor = conn.cursor()\n",
    "    try:\n",
    "        cursor.execute(select_query)\n",
    "    except (Exception, sqlite3.DatabaseError) as error:\n",
    "        print(\"Error: %s\" % error)\n",
    "        cursor.close()\n",
    "        return 1\n",
    "    \n",
    "    # Naturally we get a list of tupples\n",
    "    tupples = cursor.fetchall()\n",
    "    cursor.close()\n",
    "    \n",
    "    # We just need to turn it into a pandas dataframe\n",
    "    df = pd.DataFrame(tupples, columns=column_names)\n",
    "    return df"
   ]
  },
  {
   "cell_type": "code",
   "execution_count": 19,
   "id": "09a1f7ac",
   "metadata": {},
   "outputs": [
    {
     "data": {
      "text/html": [
       "<div>\n",
       "<style scoped>\n",
       "    .dataframe tbody tr th:only-of-type {\n",
       "        vertical-align: middle;\n",
       "    }\n",
       "\n",
       "    .dataframe tbody tr th {\n",
       "        vertical-align: top;\n",
       "    }\n",
       "\n",
       "    .dataframe thead th {\n",
       "        text-align: right;\n",
       "    }\n",
       "</style>\n",
       "<table border=\"1\" class=\"dataframe\">\n",
       "  <thead>\n",
       "    <tr style=\"text-align: right;\">\n",
       "      <th></th>\n",
       "      <th>id</th>\n",
       "      <th>category_name</th>\n",
       "      <th>description</th>\n",
       "      <th>picture</th>\n",
       "    </tr>\n",
       "  </thead>\n",
       "  <tbody>\n",
       "    <tr>\n",
       "      <th>0</th>\n",
       "      <td>1</td>\n",
       "      <td>Beverages</td>\n",
       "      <td>Soft drinks, coffees, teas, beers, and ales</td>\n",
       "      <td>b'\\xff\\xd8\\xff\\xe0\\x00\\x10JFIF\\x00\\x01\\x02\\x00...</td>\n",
       "    </tr>\n",
       "    <tr>\n",
       "      <th>1</th>\n",
       "      <td>2</td>\n",
       "      <td>Condiments</td>\n",
       "      <td>Sweet and savory sauces, relishes, spreads, an...</td>\n",
       "      <td>b'\\xff\\xd8\\xff\\xe0\\x00\\x10JFIF\\x00\\x01\\x02\\x00...</td>\n",
       "    </tr>\n",
       "    <tr>\n",
       "      <th>2</th>\n",
       "      <td>3</td>\n",
       "      <td>Confections</td>\n",
       "      <td>Desserts, candies, and sweet breads</td>\n",
       "      <td>b'\\xff\\xd8\\xff\\xe0\\x00\\x10JFIF\\x00\\x01\\x02\\x00...</td>\n",
       "    </tr>\n",
       "    <tr>\n",
       "      <th>3</th>\n",
       "      <td>4</td>\n",
       "      <td>Dairy Products</td>\n",
       "      <td>Cheeses</td>\n",
       "      <td>b'\\xff\\xd8\\xff\\xe0\\x00\\x10JFIF\\x00\\x01\\x02\\x00...</td>\n",
       "    </tr>\n",
       "    <tr>\n",
       "      <th>4</th>\n",
       "      <td>5</td>\n",
       "      <td>Grains/Cereals</td>\n",
       "      <td>Breads, crackers, pasta, and cereal</td>\n",
       "      <td>b'\\xff\\xd8\\xff\\xe0\\x00\\x10JFIF\\x00\\x01\\x02\\x00...</td>\n",
       "    </tr>\n",
       "  </tbody>\n",
       "</table>\n",
       "</div>"
      ],
      "text/plain": [
       "   id   category_name                                        description  \\\n",
       "0   1       Beverages        Soft drinks, coffees, teas, beers, and ales   \n",
       "1   2      Condiments  Sweet and savory sauces, relishes, spreads, an...   \n",
       "2   3     Confections                Desserts, candies, and sweet breads   \n",
       "3   4  Dairy Products                                            Cheeses   \n",
       "4   5  Grains/Cereals                Breads, crackers, pasta, and cereal   \n",
       "\n",
       "                                             picture  \n",
       "0  b'\\xff\\xd8\\xff\\xe0\\x00\\x10JFIF\\x00\\x01\\x02\\x00...  \n",
       "1  b'\\xff\\xd8\\xff\\xe0\\x00\\x10JFIF\\x00\\x01\\x02\\x00...  \n",
       "2  b'\\xff\\xd8\\xff\\xe0\\x00\\x10JFIF\\x00\\x01\\x02\\x00...  \n",
       "3  b'\\xff\\xd8\\xff\\xe0\\x00\\x10JFIF\\x00\\x01\\x02\\x00...  \n",
       "4  b'\\xff\\xd8\\xff\\xe0\\x00\\x10JFIF\\x00\\x01\\x02\\x00...  "
      ]
     },
     "execution_count": 19,
     "metadata": {},
     "output_type": "execute_result"
    }
   ],
   "source": [
    "column_names = [\"id\", \"category_name\", \"description\", \"picture\"]\n",
    "# Execute the \"SELECT *\" query\n",
    "df = sqlite3_to_dataframe(conn, \"select * from categories;\", column_names)\n",
    "df.head()"
   ]
  },
  {
   "cell_type": "code",
   "execution_count": null,
   "id": "4fe8894c",
   "metadata": {},
   "outputs": [],
   "source": [
    "# weird encodings"
   ]
  },
  {
   "cell_type": "code",
   "execution_count": 10,
   "id": "63592698",
   "metadata": {},
   "outputs": [],
   "source": [
    "conn.close()"
   ]
  },
  {
   "cell_type": "markdown",
   "id": "dd1bf59d",
   "metadata": {},
   "source": [
    "## **THE END**"
   ]
  }
 ],
 "metadata": {
  "kernelspec": {
   "display_name": "Python 3 (ipykernel)",
   "language": "python",
   "name": "python3"
  },
  "language_info": {
   "codemirror_mode": {
    "name": "ipython",
    "version": 3
   },
   "file_extension": ".py",
   "mimetype": "text/x-python",
   "name": "python",
   "nbconvert_exporter": "python",
   "pygments_lexer": "ipython3",
   "version": "3.8.5"
  }
 },
 "nbformat": 4,
 "nbformat_minor": 5
}
