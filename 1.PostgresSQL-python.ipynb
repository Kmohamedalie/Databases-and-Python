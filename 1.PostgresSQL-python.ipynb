{
 "cells": [
  {
   "cell_type": "markdown",
   "id": "874789e1",
   "metadata": {},
   "source": [
    "# **Using python to query postgres**\n",
    "\n",
    "Northwind database"
   ]
  },
  {
   "cell_type": "markdown",
   "id": "cb3cf3ea",
   "metadata": {},
   "source": [
    "**install library if not present**"
   ]
  },
  {
   "cell_type": "code",
   "execution_count": 1,
   "id": "7dbeb8fd",
   "metadata": {},
   "outputs": [],
   "source": [
    "import pip\n",
    "\n",
    "def import_or_install(package):\n",
    "    try:\n",
    "        __import__(package)\n",
    "    except ImportError:\n",
    "        pip.main(['install', package])   \n",
    "\n",
    "psycopg2 = \"psycopg2\"\n",
    "import_or_install(psycopg2)        "
   ]
  },
  {
   "cell_type": "markdown",
   "id": "c9c128be",
   "metadata": {},
   "source": [
    "**import libraries**"
   ]
  },
  {
   "cell_type": "code",
   "execution_count": 2,
   "id": "32224244",
   "metadata": {},
   "outputs": [],
   "source": [
    "import psycopg2 as pg2\n",
    "import pandas as pd"
   ]
  },
  {
   "cell_type": "markdown",
   "id": "e2e1af66",
   "metadata": {},
   "source": [
    "**Create a connection with PostgreSQL**"
   ]
  },
  {
   "cell_type": "code",
   "execution_count": 3,
   "id": "18b80271",
   "metadata": {},
   "outputs": [],
   "source": [
    "# Create a connection with PostgreSQL\n",
    "# 'password' is whatever password you set, we set password in the install video\n",
    "conn = pg2.connect(database='northwind', user='postgres',password='postgres')"
   ]
  },
  {
   "cell_type": "code",
   "execution_count": 4,
   "id": "4bf5f234",
   "metadata": {},
   "outputs": [],
   "source": [
    "# Establish connection and start cursor to be ready to query\n",
    "cur = conn.cursor()"
   ]
  },
  {
   "cell_type": "code",
   "execution_count": 5,
   "id": "4628331d",
   "metadata": {},
   "outputs": [],
   "source": [
    "# Pass in a PostgreSQL query as a string\n",
    "cur.execute(\"select * from categories;\")"
   ]
  },
  {
   "cell_type": "code",
   "execution_count": 6,
   "id": "1f8cfe6b",
   "metadata": {},
   "outputs": [
    {
     "data": {
      "text/plain": [
       "(1,\n",
       " 'Beverages',\n",
       " 'Soft drinks, coffees, teas, beers, and ales',\n",
       " <memory at 0x000001B61E74CC40>)"
      ]
     },
     "execution_count": 6,
     "metadata": {},
     "output_type": "execute_result"
    }
   ],
   "source": [
    "# Return a tuple of the first row as Python objects\n",
    "cur.fetchone()"
   ]
  },
  {
   "cell_type": "code",
   "execution_count": 7,
   "id": "b9f082d9",
   "metadata": {
    "scrolled": true
   },
   "outputs": [
    {
     "data": {
      "text/plain": [
       "[(2,\n",
       "  'Condiments',\n",
       "  'Sweet and savory sauces, relishes, spreads, and seasonings',\n",
       "  <memory at 0x000001B61E74CB80>),\n",
       " (3,\n",
       "  'Confections',\n",
       "  'Desserts, candies, and sweet breads',\n",
       "  <memory at 0x000001B61E74CE80>),\n",
       " (4, 'Dairy Products', 'Cheeses', <memory at 0x000001B61E74CD00>),\n",
       " (5,\n",
       "  'Grains/Cereals',\n",
       "  'Breads, crackers, pasta, and cereal',\n",
       "  <memory at 0x000001B61E74CDC0>),\n",
       " (6, 'Meat/Poultry', 'Prepared meats', <memory at 0x000001B61E74CF40>),\n",
       " (7, 'Produce', 'Dried fruit and bean curd', <memory at 0x000001B61E74C7C0>),\n",
       " (8, 'Seafood', 'Seaweed and fish', <memory at 0x000001B61E74CAC0>)]"
      ]
     },
     "execution_count": 7,
     "metadata": {},
     "output_type": "execute_result"
    }
   ],
   "source": [
    "# Return N number of rows\n",
    "cur.fetchmany(10)"
   ]
  },
  {
   "cell_type": "code",
   "execution_count": 8,
   "id": "b30f55de",
   "metadata": {},
   "outputs": [
    {
     "data": {
      "text/plain": [
       "[]"
      ]
     },
     "execution_count": 8,
     "metadata": {},
     "output_type": "execute_result"
    }
   ],
   "source": [
    "# Return All rows at once\n",
    "cur.fetchall()"
   ]
  },
  {
   "cell_type": "code",
   "execution_count": 9,
   "id": "dd66796f",
   "metadata": {},
   "outputs": [],
   "source": [
    "# To save and index results, assign it to a variable\n",
    "data = cur.fetchmany(10)"
   ]
  },
  {
   "cell_type": "code",
   "execution_count": 10,
   "id": "a51bae10",
   "metadata": {},
   "outputs": [],
   "source": [
    "query1 = '''\n",
    "        select * from products\n",
    "        '''\n",
    "cur.execute(query1)"
   ]
  },
  {
   "cell_type": "code",
   "execution_count": 11,
   "id": "e9c8b339",
   "metadata": {
    "scrolled": false
   },
   "outputs": [
    {
     "data": {
      "text/plain": [
       "[(1, 'Chai', 8, 1, '10 boxes x 30 bags', 18.0, 39, 0, 10, 1),\n",
       " (2, 'Chang', 1, 1, '24 - 12 oz bottles', 19.0, 17, 40, 25, 1),\n",
       " (3, 'Aniseed Syrup', 1, 2, '12 - 550 ml bottles', 10.0, 13, 70, 25, 0),\n",
       " (4,\n",
       "  \"Chef Anton's Cajun Seasoning\",\n",
       "  2,\n",
       "  2,\n",
       "  '48 - 6 oz jars',\n",
       "  22.0,\n",
       "  53,\n",
       "  0,\n",
       "  0,\n",
       "  0),\n",
       " (5, \"Chef Anton's Gumbo Mix\", 2, 2, '36 boxes', 21.35, 0, 0, 0, 1),\n",
       " (6,\n",
       "  \"Grandma's Boysenberry Spread\",\n",
       "  3,\n",
       "  2,\n",
       "  '12 - 8 oz jars',\n",
       "  25.0,\n",
       "  120,\n",
       "  0,\n",
       "  25,\n",
       "  0),\n",
       " (7,\n",
       "  \"Uncle Bob's Organic Dried Pears\",\n",
       "  3,\n",
       "  7,\n",
       "  '12 - 1 lb pkgs.',\n",
       "  30.0,\n",
       "  15,\n",
       "  0,\n",
       "  10,\n",
       "  0),\n",
       " (8, 'Northwoods Cranberry Sauce', 3, 2, '12 - 12 oz jars', 40.0, 6, 0, 0, 0),\n",
       " (9, 'Mishi Kobe Niku', 4, 6, '18 - 500 g pkgs.', 97.0, 29, 0, 0, 1),\n",
       " (10, 'Ikura', 4, 8, '12 - 200 ml jars', 31.0, 31, 0, 0, 0)]"
      ]
     },
     "execution_count": 11,
     "metadata": {},
     "output_type": "execute_result"
    }
   ],
   "source": [
    "cur.fetchmany(10)"
   ]
  },
  {
   "cell_type": "code",
   "execution_count": null,
   "id": "f4426d45",
   "metadata": {},
   "outputs": [],
   "source": []
  },
  {
   "cell_type": "code",
   "execution_count": 12,
   "id": "808cdc45",
   "metadata": {},
   "outputs": [],
   "source": [
    "# Naturally we get a list of tupples\n",
    "tupples = cur.fetchall()\n",
    "cur.close()"
   ]
  },
  {
   "cell_type": "markdown",
   "id": "0e61bf5e",
   "metadata": {},
   "source": [
    "**Postgres SQL to dataFrame:** the following code was made available by Naysan Saran : [link](https://naysan.ca/2020/05/31/postgresql-to-pandas/)"
   ]
  },
  {
   "cell_type": "code",
   "execution_count": 13,
   "id": "c1a76cb3",
   "metadata": {},
   "outputs": [],
   "source": [
    "def postgresql_to_dataframe(conn, select_query, column_names):\n",
    "    \"\"\"\n",
    "    Tranform a SELECT query into a pandas dataframe\n",
    "    \"\"\"\n",
    "    cursor = conn.cursor()\n",
    "    try:\n",
    "        cursor.execute(select_query)\n",
    "    except (Exception, psycopg2.DatabaseError) as error:\n",
    "        print(\"Error: %s\" % error)\n",
    "        cursor.close()\n",
    "        return 1\n",
    "    \n",
    "    # Naturally we get a list of tupples\n",
    "    tupples = cursor.fetchall()\n",
    "    cursor.close()\n",
    "    \n",
    "    # We just need to turn it into a pandas dataframe\n",
    "    df = pd.DataFrame(tupples, columns=column_names)\n",
    "    return df"
   ]
  },
  {
   "cell_type": "code",
   "execution_count": 14,
   "id": "09a1f7ac",
   "metadata": {},
   "outputs": [
    {
     "data": {
      "text/html": [
       "<div>\n",
       "<style scoped>\n",
       "    .dataframe tbody tr th:only-of-type {\n",
       "        vertical-align: middle;\n",
       "    }\n",
       "\n",
       "    .dataframe tbody tr th {\n",
       "        vertical-align: top;\n",
       "    }\n",
       "\n",
       "    .dataframe thead th {\n",
       "        text-align: right;\n",
       "    }\n",
       "</style>\n",
       "<table border=\"1\" class=\"dataframe\">\n",
       "  <thead>\n",
       "    <tr style=\"text-align: right;\">\n",
       "      <th></th>\n",
       "      <th>id</th>\n",
       "      <th>category_name</th>\n",
       "      <th>description</th>\n",
       "      <th>picture</th>\n",
       "    </tr>\n",
       "  </thead>\n",
       "  <tbody>\n",
       "    <tr>\n",
       "      <th>0</th>\n",
       "      <td>1</td>\n",
       "      <td>Beverages</td>\n",
       "      <td>Soft drinks, coffees, teas, beers, and ales</td>\n",
       "      <td>[]</td>\n",
       "    </tr>\n",
       "    <tr>\n",
       "      <th>1</th>\n",
       "      <td>2</td>\n",
       "      <td>Condiments</td>\n",
       "      <td>Sweet and savory sauces, relishes, spreads, an...</td>\n",
       "      <td>[]</td>\n",
       "    </tr>\n",
       "    <tr>\n",
       "      <th>2</th>\n",
       "      <td>3</td>\n",
       "      <td>Confections</td>\n",
       "      <td>Desserts, candies, and sweet breads</td>\n",
       "      <td>[]</td>\n",
       "    </tr>\n",
       "    <tr>\n",
       "      <th>3</th>\n",
       "      <td>4</td>\n",
       "      <td>Dairy Products</td>\n",
       "      <td>Cheeses</td>\n",
       "      <td>[]</td>\n",
       "    </tr>\n",
       "    <tr>\n",
       "      <th>4</th>\n",
       "      <td>5</td>\n",
       "      <td>Grains/Cereals</td>\n",
       "      <td>Breads, crackers, pasta, and cereal</td>\n",
       "      <td>[]</td>\n",
       "    </tr>\n",
       "  </tbody>\n",
       "</table>\n",
       "</div>"
      ],
      "text/plain": [
       "   id   category_name                                        description  \\\n",
       "0   1       Beverages        Soft drinks, coffees, teas, beers, and ales   \n",
       "1   2      Condiments  Sweet and savory sauces, relishes, spreads, an...   \n",
       "2   3     Confections                Desserts, candies, and sweet breads   \n",
       "3   4  Dairy Products                                            Cheeses   \n",
       "4   5  Grains/Cereals                Breads, crackers, pasta, and cereal   \n",
       "\n",
       "  picture  \n",
       "0      []  \n",
       "1      []  \n",
       "2      []  \n",
       "3      []  \n",
       "4      []  "
      ]
     },
     "execution_count": 14,
     "metadata": {},
     "output_type": "execute_result"
    }
   ],
   "source": [
    "column_names = [\"id\", \"category_name\", \"description\", \"picture\"]\n",
    "# Execute the \"SELECT *\" query\n",
    "df = postgresql_to_dataframe(conn, \"select * from categories;\", column_names)\n",
    "df.head()"
   ]
  },
  {
   "cell_type": "code",
   "execution_count": null,
   "id": "4fe8894c",
   "metadata": {},
   "outputs": [],
   "source": []
  },
  {
   "cell_type": "code",
   "execution_count": 15,
   "id": "63592698",
   "metadata": {},
   "outputs": [],
   "source": [
    "conn.close()"
   ]
  },
  {
   "cell_type": "markdown",
   "id": "f7d82282",
   "metadata": {},
   "source": [
    "## **THE END**"
   ]
  }
 ],
 "metadata": {
  "kernelspec": {
   "display_name": "Python 3 (ipykernel)",
   "language": "python",
   "name": "python3"
  },
  "language_info": {
   "codemirror_mode": {
    "name": "ipython",
    "version": 3
   },
   "file_extension": ".py",
   "mimetype": "text/x-python",
   "name": "python",
   "nbconvert_exporter": "python",
   "pygments_lexer": "ipython3",
   "version": "3.8.5"
  }
 },
 "nbformat": 4,
 "nbformat_minor": 5
}
