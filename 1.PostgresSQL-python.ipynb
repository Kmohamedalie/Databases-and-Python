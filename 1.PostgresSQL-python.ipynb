{
 "cells": [
  {
   "cell_type": "markdown",
   "id": "874789e1",
   "metadata": {},
   "source": [
    "# **Using python to query postgres**\n",
    "\n",
    "Northwind database"
   ]
  },
  {
   "cell_type": "markdown",
   "id": "cb3cf3ea",
   "metadata": {},
   "source": [
    "**install library if not present**"
   ]
  },
  {
   "cell_type": "code",
   "execution_count": 1,
   "id": "7dbeb8fd",
   "metadata": {},
   "outputs": [],
   "source": [
    "import pip\n",
    "\n",
    "def import_or_install(package):\n",
    "    try:\n",
    "        __import__(package)\n",
    "    except ImportError:\n",
    "        pip.main(['install', package])   \n",
    "\n",
    "psycopg2 = \"psycopg2\"\n",
    "import_or_install(psycopg2)        "
   ]
  },
  {
   "cell_type": "markdown",
   "id": "c9c128be",
   "metadata": {},
   "source": [
    "**import libraries**"
   ]
  },
  {
   "cell_type": "code",
   "execution_count": 2,
   "id": "32224244",
   "metadata": {},
   "outputs": [],
   "source": [
    "import psycopg2 as pg2\n",
    "import pandas as pd"
   ]
  },
  {
   "cell_type": "markdown",
   "id": "e2e1af66",
   "metadata": {},
   "source": [
    "**Create a connection with PostgreSQL**"
   ]
  },
  {
   "cell_type": "code",
   "execution_count": 3,
   "id": "18b80271",
   "metadata": {},
   "outputs": [],
   "source": [
    "# Create a connection with PostgreSQL\n",
    "conn = pg2.connect(database='northwind', user='postgres',password='postgres')"
   ]
  },
  {
   "cell_type": "code",
   "execution_count": 4,
   "id": "4bf5f234",
   "metadata": {},
   "outputs": [],
   "source": [
    "# Establish connection and start cursor to be ready to query\n",
    "cur = conn.cursor()"
   ]
  },
  {
   "cell_type": "code",
   "execution_count": 5,
   "id": "4628331d",
   "metadata": {},
   "outputs": [],
   "source": [
    "# Pass in a PostgreSQL query as a string\n",
    "cur.execute(\"select * from categories;\")"
   ]
  },
  {
   "cell_type": "code",
   "execution_count": 6,
   "id": "1f8cfe6b",
   "metadata": {},
   "outputs": [
    {
     "data": {
      "text/plain": [
       "(1,\n",
       " 'Beverages',\n",
       " 'Soft drinks, coffees, teas, beers, and ales',\n",
       " <memory at 0x00000273EDA5EE80>)"
      ]
     },
     "execution_count": 6,
     "metadata": {},
     "output_type": "execute_result"
    }
   ],
   "source": [
    "# Return a tuple of the first row as Python objects\n",
    "cur.fetchone()"
   ]
  },
  {
   "cell_type": "code",
   "execution_count": 7,
   "id": "b9f082d9",
   "metadata": {
    "scrolled": true
   },
   "outputs": [
    {
     "data": {
      "text/plain": [
       "[(2,\n",
       "  'Condiments',\n",
       "  'Sweet and savory sauces, relishes, spreads, and seasonings',\n",
       "  <memory at 0x00000273EDA5ED00>),\n",
       " (3,\n",
       "  'Confections',\n",
       "  'Desserts, candies, and sweet breads',\n",
       "  <memory at 0x00000273EDA5EA00>),\n",
       " (4, 'Dairy Products', 'Cheeses', <memory at 0x00000273EDA5E7C0>),\n",
       " (5,\n",
       "  'Grains/Cereals',\n",
       "  'Breads, crackers, pasta, and cereal',\n",
       "  <memory at 0x00000273EDA5EDC0>),\n",
       " (6, 'Meat/Poultry', 'Prepared meats', <memory at 0x00000273EDA5EF40>),\n",
       " (7, 'Produce', 'Dried fruit and bean curd', <memory at 0x00000273EDA5EAC0>),\n",
       " (8, 'Seafood', 'Seaweed and fish', <memory at 0x00000273EDA5EC40>)]"
      ]
     },
     "execution_count": 7,
     "metadata": {},
     "output_type": "execute_result"
    }
   ],
   "source": [
    "# Return N number of rows\n",
    "cur.fetchmany(10)"
   ]
  },
  {
   "cell_type": "code",
   "execution_count": 8,
   "id": "b30f55de",
   "metadata": {},
   "outputs": [
    {
     "data": {
      "text/plain": [
       "[]"
      ]
     },
     "execution_count": 8,
     "metadata": {},
     "output_type": "execute_result"
    }
   ],
   "source": [
    "# Return All rows at once\n",
    "cur.fetchall()"
   ]
  },
  {
   "cell_type": "code",
   "execution_count": 9,
   "id": "dd66796f",
   "metadata": {},
   "outputs": [],
   "source": [
    "# To save and index results, assign it to a variable\n",
    "data = cur.fetchmany(10)"
   ]
  },
  {
   "cell_type": "code",
   "execution_count": 10,
   "id": "a51bae10",
   "metadata": {},
   "outputs": [],
   "source": [
    "query1 = '''\n",
    "        select * from employees\n",
    "        '''\n",
    "cur.execute(query1)"
   ]
  },
  {
   "cell_type": "code",
   "execution_count": 11,
   "id": "e9c8b339",
   "metadata": {
    "scrolled": false
   },
   "outputs": [
    {
     "data": {
      "text/plain": [
       "[(1,\n",
       "  'Davolio',\n",
       "  'Nancy',\n",
       "  'Sales Representative',\n",
       "  'Ms.',\n",
       "  datetime.date(1948, 12, 8),\n",
       "  datetime.date(1992, 5, 1),\n",
       "  '507 - 20th Ave. E.\\\\nApt. 2A',\n",
       "  'Seattle',\n",
       "  'WA',\n",
       "  '98122',\n",
       "  'USA',\n",
       "  '(206) 555-9857',\n",
       "  '5467',\n",
       "  <memory at 0x00000273EDAAD100>,\n",
       "  'Education includes a BA in psychology from Colorado State University in 1970.  She also completed The Art of the Cold Call.  Nancy is a member of Toastmasters International.',\n",
       "  2,\n",
       "  'http://accweb/emmployees/davolio.bmp'),\n",
       " (2,\n",
       "  'Fuller',\n",
       "  'Andrew',\n",
       "  'Vice President, Sales',\n",
       "  'Dr.',\n",
       "  datetime.date(1952, 2, 19),\n",
       "  datetime.date(1992, 8, 14),\n",
       "  '908 W. Capital Way',\n",
       "  'Tacoma',\n",
       "  'WA',\n",
       "  '98401',\n",
       "  'USA',\n",
       "  '(206) 555-9482',\n",
       "  '3457',\n",
       "  <memory at 0x00000273EDAAD280>,\n",
       "  'Andrew received his BTS commercial in 1974 and a Ph.D. in international marketing from the University of Dallas in 1981.  He is fluent in French and Italian and reads German.  He joined the company as a sales representative, was promoted to sales manager in January 1992 and to vice president of sales in March 1993.  Andrew is a member of the Sales Management Roundtable, the Seattle Chamber of Commerce, and the Pacific Rim Importers Association.',\n",
       "  None,\n",
       "  'http://accweb/emmployees/fuller.bmp'),\n",
       " (3,\n",
       "  'Leverling',\n",
       "  'Janet',\n",
       "  'Sales Representative',\n",
       "  'Ms.',\n",
       "  datetime.date(1963, 8, 30),\n",
       "  datetime.date(1992, 4, 1),\n",
       "  '722 Moss Bay Blvd.',\n",
       "  'Kirkland',\n",
       "  'WA',\n",
       "  '98033',\n",
       "  'USA',\n",
       "  '(206) 555-3412',\n",
       "  '3355',\n",
       "  <memory at 0x00000273EDAAD400>,\n",
       "  'Janet has a BS degree in chemistry from Boston College (1984).  She has also completed a certificate program in food retailing management.  Janet was hired as a sales associate in 1991 and promoted to sales representative in February 1992.',\n",
       "  2,\n",
       "  'http://accweb/emmployees/leverling.bmp'),\n",
       " (4,\n",
       "  'Peacock',\n",
       "  'Margaret',\n",
       "  'Sales Representative',\n",
       "  'Mrs.',\n",
       "  datetime.date(1937, 9, 19),\n",
       "  datetime.date(1993, 5, 3),\n",
       "  '4110 Old Redmond Rd.',\n",
       "  'Redmond',\n",
       "  'WA',\n",
       "  '98052',\n",
       "  'USA',\n",
       "  '(206) 555-8122',\n",
       "  '5176',\n",
       "  <memory at 0x00000273EDAAD580>,\n",
       "  'Margaret holds a BA in English literature from Concordia College (1958) and an MA from the American Institute of Culinary Arts (1966).  She was assigned to the London office temporarily from July through November 1992.',\n",
       "  2,\n",
       "  'http://accweb/emmployees/peacock.bmp'),\n",
       " (5,\n",
       "  'Buchanan',\n",
       "  'Steven',\n",
       "  'Sales Manager',\n",
       "  'Mr.',\n",
       "  datetime.date(1955, 3, 4),\n",
       "  datetime.date(1993, 10, 17),\n",
       "  '14 Garrett Hill',\n",
       "  'London',\n",
       "  None,\n",
       "  'SW1 8JR',\n",
       "  'UK',\n",
       "  '(71) 555-4848',\n",
       "  '3453',\n",
       "  <memory at 0x00000273EDAAD700>,\n",
       "  'Steven Buchanan graduated from St. Andrews University, Scotland, with a BSC degree in 1976.  Upon joining the company as a sales representative in 1992, he spent 6 months in an orientation program at the Seattle office and then returned to his permanent post in London.  He was promoted to sales manager in March 1993.  Mr. Buchanan has completed the courses Successful Telemarketing and International Sales Management.  He is fluent in French.',\n",
       "  2,\n",
       "  'http://accweb/emmployees/buchanan.bmp'),\n",
       " (6,\n",
       "  'Suyama',\n",
       "  'Michael',\n",
       "  'Sales Representative',\n",
       "  'Mr.',\n",
       "  datetime.date(1963, 7, 2),\n",
       "  datetime.date(1993, 10, 17),\n",
       "  'Coventry House\\\\nMiner Rd.',\n",
       "  'London',\n",
       "  None,\n",
       "  'EC2 7JR',\n",
       "  'UK',\n",
       "  '(71) 555-7773',\n",
       "  '428',\n",
       "  <memory at 0x00000273EDAAD880>,\n",
       "  'Michael is a graduate of Sussex University (MA, economics, 1983) and the University of California at Los Angeles (MBA, marketing, 1986).  He has also taken the courses Multi-Cultural Selling and Time Management for the Sales Professional.  He is fluent in Japanese and can read and write French, Portuguese, and Spanish.',\n",
       "  5,\n",
       "  'http://accweb/emmployees/davolio.bmp'),\n",
       " (7,\n",
       "  'King',\n",
       "  'Robert',\n",
       "  'Sales Representative',\n",
       "  'Mr.',\n",
       "  datetime.date(1960, 5, 29),\n",
       "  datetime.date(1994, 1, 2),\n",
       "  'Edgeham Hollow\\\\nWinchester Way',\n",
       "  'London',\n",
       "  None,\n",
       "  'RG1 9SP',\n",
       "  'UK',\n",
       "  '(71) 555-5598',\n",
       "  '465',\n",
       "  <memory at 0x00000273EDAADA00>,\n",
       "  'Robert King served in the Peace Corps and traveled extensively before completing his degree in English at the University of Michigan in 1992, the year he joined the company.  After completing a course entitled Selling in Europe, he was transferred to the London office in March 1993.',\n",
       "  5,\n",
       "  'http://accweb/emmployees/davolio.bmp'),\n",
       " (8,\n",
       "  'Callahan',\n",
       "  'Laura',\n",
       "  'Inside Sales Coordinator',\n",
       "  'Ms.',\n",
       "  datetime.date(1958, 1, 9),\n",
       "  datetime.date(1994, 3, 5),\n",
       "  '4726 - 11th Ave. N.E.',\n",
       "  'Seattle',\n",
       "  'WA',\n",
       "  '98105',\n",
       "  'USA',\n",
       "  '(206) 555-1189',\n",
       "  '2344',\n",
       "  <memory at 0x00000273EDAADB80>,\n",
       "  'Laura received a BA in psychology from the University of Washington.  She has also completed a course in business French.  She reads and writes French.',\n",
       "  2,\n",
       "  'http://accweb/emmployees/davolio.bmp'),\n",
       " (9,\n",
       "  'Dodsworth',\n",
       "  'Anne',\n",
       "  'Sales Representative',\n",
       "  'Ms.',\n",
       "  datetime.date(1966, 1, 27),\n",
       "  datetime.date(1994, 11, 15),\n",
       "  '7 Houndstooth Rd.',\n",
       "  'London',\n",
       "  None,\n",
       "  'WG2 7LT',\n",
       "  'UK',\n",
       "  '(71) 555-4444',\n",
       "  '452',\n",
       "  <memory at 0x00000273EDAADD00>,\n",
       "  'Anne has a BA degree in English from St. Lawrence College.  She is fluent in French and German.',\n",
       "  5,\n",
       "  'http://accweb/emmployees/davolio.bmp')]"
      ]
     },
     "execution_count": 11,
     "metadata": {},
     "output_type": "execute_result"
    }
   ],
   "source": [
    "cur.fetchmany(10)"
   ]
  },
  {
   "cell_type": "code",
   "execution_count": null,
   "id": "f4426d45",
   "metadata": {},
   "outputs": [],
   "source": []
  },
  {
   "cell_type": "code",
   "execution_count": 12,
   "id": "808cdc45",
   "metadata": {},
   "outputs": [],
   "source": [
    "# Naturally we get a list of tupples\n",
    "tupples = cur.fetchall()\n",
    "cur.close()"
   ]
  },
  {
   "cell_type": "markdown",
   "id": "d42c4090",
   "metadata": {},
   "source": [
    "**Postgres SQL to dataFrame:** the following code was made available by Naysan Saran : [link](https://naysan.ca/2020/05/31/postgresql-to-pandas/)"
   ]
  },
  {
   "cell_type": "code",
   "execution_count": 13,
   "id": "29081bd8",
   "metadata": {},
   "outputs": [],
   "source": [
    "def postgresql_to_dataframe(conn, select_query, column_names):\n",
    "    \"\"\"\n",
    "    Tranform a SELECT query into a pandas dataframe\n",
    "    \"\"\"\n",
    "    cursor = conn.cursor()\n",
    "    try:\n",
    "        cursor.execute(select_query)\n",
    "    except (Exception, psycopg2.DatabaseError) as error:\n",
    "        print(\"Error: %s\" % error)\n",
    "        cursor.close()\n",
    "        return 1\n",
    "    \n",
    "    # Naturally we get a list of tupples\n",
    "    tupples = cursor.fetchall()\n",
    "    cursor.close()\n",
    "    \n",
    "    # We just need to turn it into a pandas dataframe\n",
    "    df = pd.DataFrame(tupples, columns=column_names)\n",
    "    return df"
   ]
  },
  {
   "cell_type": "code",
   "execution_count": 14,
   "id": "09a1f7ac",
   "metadata": {},
   "outputs": [
    {
     "data": {
      "text/html": [
       "<div>\n",
       "<style scoped>\n",
       "    .dataframe tbody tr th:only-of-type {\n",
       "        vertical-align: middle;\n",
       "    }\n",
       "\n",
       "    .dataframe tbody tr th {\n",
       "        vertical-align: top;\n",
       "    }\n",
       "\n",
       "    .dataframe thead th {\n",
       "        text-align: right;\n",
       "    }\n",
       "</style>\n",
       "<table border=\"1\" class=\"dataframe\">\n",
       "  <thead>\n",
       "    <tr style=\"text-align: right;\">\n",
       "      <th></th>\n",
       "      <th>id</th>\n",
       "      <th>category_name</th>\n",
       "      <th>description</th>\n",
       "      <th>picture</th>\n",
       "    </tr>\n",
       "  </thead>\n",
       "  <tbody>\n",
       "    <tr>\n",
       "      <th>0</th>\n",
       "      <td>1</td>\n",
       "      <td>Beverages</td>\n",
       "      <td>Soft drinks, coffees, teas, beers, and ales</td>\n",
       "      <td>[]</td>\n",
       "    </tr>\n",
       "    <tr>\n",
       "      <th>1</th>\n",
       "      <td>2</td>\n",
       "      <td>Condiments</td>\n",
       "      <td>Sweet and savory sauces, relishes, spreads, an...</td>\n",
       "      <td>[]</td>\n",
       "    </tr>\n",
       "    <tr>\n",
       "      <th>2</th>\n",
       "      <td>3</td>\n",
       "      <td>Confections</td>\n",
       "      <td>Desserts, candies, and sweet breads</td>\n",
       "      <td>[]</td>\n",
       "    </tr>\n",
       "    <tr>\n",
       "      <th>3</th>\n",
       "      <td>4</td>\n",
       "      <td>Dairy Products</td>\n",
       "      <td>Cheeses</td>\n",
       "      <td>[]</td>\n",
       "    </tr>\n",
       "    <tr>\n",
       "      <th>4</th>\n",
       "      <td>5</td>\n",
       "      <td>Grains/Cereals</td>\n",
       "      <td>Breads, crackers, pasta, and cereal</td>\n",
       "      <td>[]</td>\n",
       "    </tr>\n",
       "  </tbody>\n",
       "</table>\n",
       "</div>"
      ],
      "text/plain": [
       "   id   category_name                                        description  \\\n",
       "0   1       Beverages        Soft drinks, coffees, teas, beers, and ales   \n",
       "1   2      Condiments  Sweet and savory sauces, relishes, spreads, an...   \n",
       "2   3     Confections                Desserts, candies, and sweet breads   \n",
       "3   4  Dairy Products                                            Cheeses   \n",
       "4   5  Grains/Cereals                Breads, crackers, pasta, and cereal   \n",
       "\n",
       "  picture  \n",
       "0      []  \n",
       "1      []  \n",
       "2      []  \n",
       "3      []  \n",
       "4      []  "
      ]
     },
     "execution_count": 14,
     "metadata": {},
     "output_type": "execute_result"
    }
   ],
   "source": [
    "column_names = [\"id\", \"category_name\", \"description\", \"picture\"]\n",
    "# Execute the \"SELECT *\" query\n",
    "df = postgresql_to_dataframe(conn, \"select * from categories;\", column_names)\n",
    "df.head()"
   ]
  },
  {
   "cell_type": "code",
   "execution_count": null,
   "id": "4fe8894c",
   "metadata": {},
   "outputs": [],
   "source": []
  },
  {
   "cell_type": "code",
   "execution_count": 15,
   "id": "63592698",
   "metadata": {},
   "outputs": [],
   "source": [
    "conn.close()"
   ]
  },
  {
   "cell_type": "markdown",
   "id": "dd1bf59d",
   "metadata": {},
   "source": [
    "## **THE END**"
   ]
  }
 ],
 "metadata": {
  "kernelspec": {
   "display_name": "Python 3 (ipykernel)",
   "language": "python",
   "name": "python3"
  },
  "language_info": {
   "codemirror_mode": {
    "name": "ipython",
    "version": 3
   },
   "file_extension": ".py",
   "mimetype": "text/x-python",
   "name": "python",
   "nbconvert_exporter": "python",
   "pygments_lexer": "ipython3",
   "version": "3.8.5"
  }
 },
 "nbformat": 4,
 "nbformat_minor": 5
}
