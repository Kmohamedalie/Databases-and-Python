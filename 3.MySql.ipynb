{
 "cells": [
  {
   "cell_type": "markdown",
   "id": "874789e1",
   "metadata": {},
   "source": [
    "# **Using python to query mysql**\n",
    "\n",
    "Northwind database"
   ]
  },
  {
   "cell_type": "markdown",
   "id": "cb3cf3ea",
   "metadata": {},
   "source": [
    "### **method.1:** using mysql.connector "
   ]
  },
  {
   "cell_type": "code",
   "execution_count": 54,
   "id": "c5cda7c3",
   "metadata": {},
   "outputs": [
    {
     "name": "stdout",
     "output_type": "stream",
     "text": [
      "<mysql.connector.connection_cext.CMySQLConnection object at 0x00000135683A7FA0>\n"
     ]
    }
   ],
   "source": [
    "import mysql.connector\n",
    "\n",
    "mydb = mysql.connector.connect(\n",
    "  host=\"localhost\",\n",
    "  user=\"root\",\n",
    "  password=\"mysql\",\n",
    "  port = 3306, #for Mamp users\n",
    "  database='northwind'\n",
    ")\n",
    "print(mydb) "
   ]
  },
  {
   "cell_type": "code",
   "execution_count": 55,
   "id": "ba84e147",
   "metadata": {},
   "outputs": [],
   "source": [
    "# Establish connection and start cursor to be ready to query\n",
    "cur = mydb.cursor()"
   ]
  },
  {
   "cell_type": "code",
   "execution_count": 56,
   "id": "8ca8fef0",
   "metadata": {},
   "outputs": [],
   "source": [
    "# Pass in a query as a string\n",
    "cur.execute(\"select * from categories;\")"
   ]
  },
  {
   "cell_type": "code",
   "execution_count": 57,
   "id": "3adaa54e",
   "metadata": {},
   "outputs": [
    {
     "data": {
      "text/plain": [
       "[(1, 'Beverages', 'Soft drinks, coffees, teas, beers, and ales', None),\n",
       " (2,\n",
       "  'Condiments',\n",
       "  'Sweet and savory sauces, relishes, spreads, and seasonings',\n",
       "  None),\n",
       " (3, 'Confections', 'Desserts, candies, and sweet breads', None),\n",
       " (4, 'Dairy Products', 'Cheeses', None),\n",
       " (5, 'Grains/Cereals', 'Breads, crackers, pasta, and cereal', None)]"
      ]
     },
     "execution_count": 57,
     "metadata": {},
     "output_type": "execute_result"
    }
   ],
   "source": [
    "cur.fetchmany(5)"
   ]
  },
  {
   "cell_type": "code",
   "execution_count": 60,
   "id": "c2572ade",
   "metadata": {},
   "outputs": [],
   "source": [
    "#cur.close()"
   ]
  },
  {
   "cell_type": "code",
   "execution_count": null,
   "id": "affb98f6",
   "metadata": {},
   "outputs": [],
   "source": []
  },
  {
   "cell_type": "markdown",
   "id": "f1a96bf4",
   "metadata": {},
   "source": [
    "### **method.2:**    using pymysql"
   ]
  },
  {
   "cell_type": "code",
   "execution_count": 61,
   "id": "9542b3e0",
   "metadata": {},
   "outputs": [],
   "source": [
    "#!pip install pymysql"
   ]
  },
  {
   "cell_type": "code",
   "execution_count": 62,
   "id": "620647ad",
   "metadata": {},
   "outputs": [],
   "source": [
    "# import pymysql\n",
    "import pymysql\n",
    "import pandas as pd"
   ]
  },
  {
   "cell_type": "code",
   "execution_count": 63,
   "id": "17b84ee7",
   "metadata": {},
   "outputs": [],
   "source": [
    "# create a connection\n",
    "conn = pymysql.connect(\n",
    "    database='northwind',\n",
    "    user=\"root\",\n",
    "    password=\"mysql\"\n",
    "  )"
   ]
  },
  {
   "cell_type": "code",
   "execution_count": 64,
   "id": "62cfc9d7",
   "metadata": {},
   "outputs": [],
   "source": [
    "# Establish connection and start cursor to be ready to query\n",
    "cur = conn.cursor()"
   ]
  },
  {
   "cell_type": "code",
   "execution_count": 65,
   "id": "9dc261cc",
   "metadata": {},
   "outputs": [
    {
     "data": {
      "text/plain": [
       "8"
      ]
     },
     "execution_count": 65,
     "metadata": {},
     "output_type": "execute_result"
    }
   ],
   "source": [
    "# Pass in a query as a string\n",
    "cur.execute(\"select * from categories;\")"
   ]
  },
  {
   "cell_type": "code",
   "execution_count": 66,
   "id": "b9f082d9",
   "metadata": {
    "scrolled": true
   },
   "outputs": [
    {
     "data": {
      "text/plain": [
       "((1, 'Beverages', 'Soft drinks, coffees, teas, beers, and ales', None),\n",
       " (2,\n",
       "  'Condiments',\n",
       "  'Sweet and savory sauces, relishes, spreads, and seasonings',\n",
       "  None),\n",
       " (3, 'Confections', 'Desserts, candies, and sweet breads', None),\n",
       " (4, 'Dairy Products', 'Cheeses', None),\n",
       " (5, 'Grains/Cereals', 'Breads, crackers, pasta, and cereal', None),\n",
       " (6, 'Meat/Poultry', 'Prepared meats', None),\n",
       " (7, 'Produce', 'Dried fruit and bean curd', None),\n",
       " (8, 'Seafood', 'Seaweed and fish', None))"
      ]
     },
     "execution_count": 66,
     "metadata": {},
     "output_type": "execute_result"
    }
   ],
   "source": [
    "# Return N number of rows\n",
    "cur.fetchmany(10)"
   ]
  },
  {
   "cell_type": "code",
   "execution_count": 67,
   "id": "b30f55de",
   "metadata": {},
   "outputs": [
    {
     "data": {
      "text/plain": [
       "()"
      ]
     },
     "execution_count": 67,
     "metadata": {},
     "output_type": "execute_result"
    }
   ],
   "source": [
    "# Return All rows at once\n",
    "cur.fetchall()"
   ]
  },
  {
   "cell_type": "code",
   "execution_count": 68,
   "id": "dd66796f",
   "metadata": {},
   "outputs": [],
   "source": [
    "# To save and index results, assign it to a variable\n",
    "data = cur.fetchmany(10)"
   ]
  },
  {
   "cell_type": "code",
   "execution_count": 69,
   "id": "a51bae10",
   "metadata": {},
   "outputs": [
    {
     "data": {
      "text/plain": [
       "9"
      ]
     },
     "execution_count": 69,
     "metadata": {},
     "output_type": "execute_result"
    }
   ],
   "source": [
    "query1 = '''\n",
    "        select * from employees\n",
    "        '''\n",
    "cur.execute(query1)"
   ]
  },
  {
   "cell_type": "code",
   "execution_count": 70,
   "id": "808cdc45",
   "metadata": {},
   "outputs": [],
   "source": [
    "# Naturally we get a list of tupples\n",
    "tupples = cur.fetchall()\n",
    "cur.close()"
   ]
  },
  {
   "cell_type": "markdown",
   "id": "d42c4090",
   "metadata": {},
   "source": [
    "**Postgres SQL to dataFrame:** the following code was made available by Naysan Saran : [link](https://naysan.ca/2020/05/31/postgresql-to-pandas/)"
   ]
  },
  {
   "cell_type": "code",
   "execution_count": 71,
   "id": "29081bd8",
   "metadata": {},
   "outputs": [],
   "source": [
    "def mysql_to_dataframe(conn, select_query, column_names):\n",
    "    \"\"\"\n",
    "    Tranform a SELECT query into a pandas dataframe\n",
    "    \"\"\"\n",
    "    cursor = conn.cursor()\n",
    "    try:\n",
    "        cursor.execute(select_query)\n",
    "    except (Exception, psycopg2.DatabaseError) as error:\n",
    "        print(\"Error: %s\" % error)\n",
    "        cursor.close()\n",
    "        return 1\n",
    "    \n",
    "    # Naturally we get a list of tupples\n",
    "    tupples = cursor.fetchall()\n",
    "    cursor.close()\n",
    "    \n",
    "    # We just need to turn it into a pandas dataframe\n",
    "    df = pd.DataFrame(tupples, columns=column_names)\n",
    "    return df"
   ]
  },
  {
   "cell_type": "code",
   "execution_count": 72,
   "id": "09a1f7ac",
   "metadata": {},
   "outputs": [
    {
     "data": {
      "text/html": [
       "<div>\n",
       "<style scoped>\n",
       "    .dataframe tbody tr th:only-of-type {\n",
       "        vertical-align: middle;\n",
       "    }\n",
       "\n",
       "    .dataframe tbody tr th {\n",
       "        vertical-align: top;\n",
       "    }\n",
       "\n",
       "    .dataframe thead th {\n",
       "        text-align: right;\n",
       "    }\n",
       "</style>\n",
       "<table border=\"1\" class=\"dataframe\">\n",
       "  <thead>\n",
       "    <tr style=\"text-align: right;\">\n",
       "      <th></th>\n",
       "      <th>id</th>\n",
       "      <th>category_name</th>\n",
       "      <th>description</th>\n",
       "      <th>picture</th>\n",
       "    </tr>\n",
       "  </thead>\n",
       "  <tbody>\n",
       "    <tr>\n",
       "      <th>0</th>\n",
       "      <td>1</td>\n",
       "      <td>Beverages</td>\n",
       "      <td>Soft drinks, coffees, teas, beers, and ales</td>\n",
       "      <td>None</td>\n",
       "    </tr>\n",
       "    <tr>\n",
       "      <th>1</th>\n",
       "      <td>2</td>\n",
       "      <td>Condiments</td>\n",
       "      <td>Sweet and savory sauces, relishes, spreads, an...</td>\n",
       "      <td>None</td>\n",
       "    </tr>\n",
       "    <tr>\n",
       "      <th>2</th>\n",
       "      <td>3</td>\n",
       "      <td>Confections</td>\n",
       "      <td>Desserts, candies, and sweet breads</td>\n",
       "      <td>None</td>\n",
       "    </tr>\n",
       "    <tr>\n",
       "      <th>3</th>\n",
       "      <td>4</td>\n",
       "      <td>Dairy Products</td>\n",
       "      <td>Cheeses</td>\n",
       "      <td>None</td>\n",
       "    </tr>\n",
       "    <tr>\n",
       "      <th>4</th>\n",
       "      <td>5</td>\n",
       "      <td>Grains/Cereals</td>\n",
       "      <td>Breads, crackers, pasta, and cereal</td>\n",
       "      <td>None</td>\n",
       "    </tr>\n",
       "  </tbody>\n",
       "</table>\n",
       "</div>"
      ],
      "text/plain": [
       "   id   category_name                                        description  \\\n",
       "0   1       Beverages        Soft drinks, coffees, teas, beers, and ales   \n",
       "1   2      Condiments  Sweet and savory sauces, relishes, spreads, an...   \n",
       "2   3     Confections                Desserts, candies, and sweet breads   \n",
       "3   4  Dairy Products                                            Cheeses   \n",
       "4   5  Grains/Cereals                Breads, crackers, pasta, and cereal   \n",
       "\n",
       "  picture  \n",
       "0    None  \n",
       "1    None  \n",
       "2    None  \n",
       "3    None  \n",
       "4    None  "
      ]
     },
     "execution_count": 72,
     "metadata": {},
     "output_type": "execute_result"
    }
   ],
   "source": [
    "column_names = [\"id\", \"category_name\", \"description\", \"picture\"]\n",
    "# Execute the \"SELECT *\" query\n",
    "df = mysql_to_dataframe(conn, \"select * from categories;\", column_names)\n",
    "df.head()"
   ]
  },
  {
   "cell_type": "code",
   "execution_count": null,
   "id": "4fe8894c",
   "metadata": {},
   "outputs": [],
   "source": []
  },
  {
   "cell_type": "code",
   "execution_count": 73,
   "id": "63592698",
   "metadata": {},
   "outputs": [],
   "source": [
    "conn.close()"
   ]
  },
  {
   "cell_type": "markdown",
   "id": "dd1bf59d",
   "metadata": {},
   "source": [
    "## **THE END**"
   ]
  }
 ],
 "metadata": {
  "kernelspec": {
   "display_name": "Python 3 (ipykernel)",
   "language": "python",
   "name": "python3"
  },
  "language_info": {
   "codemirror_mode": {
    "name": "ipython",
    "version": 3
   },
   "file_extension": ".py",
   "mimetype": "text/x-python",
   "name": "python",
   "nbconvert_exporter": "python",
   "pygments_lexer": "ipython3",
   "version": "3.8.5"
  }
 },
 "nbformat": 4,
 "nbformat_minor": 5
}
